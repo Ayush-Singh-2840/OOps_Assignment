{
  "metadata": {
    "kernelspec": {
      "name": "python",
      "display_name": "Python (Pyodide)",
      "language": "python"
    },
    "language_info": {
      "codemirror_mode": {
        "name": "python",
        "version": 3
      },
      "file_extension": ".py",
      "mimetype": "text/x-python",
      "name": "python",
      "nbconvert_exporter": "python",
      "pygments_lexer": "ipython3",
      "version": "3.8"
    }
  },
  "nbformat_minor": 4,
  "nbformat": 4,
  "cells": [
    {
      "cell_type": "markdown",
      "source": "1. What are the five key concepts of Object-Oriented Programming (OOP)?",
      "metadata": {}
    },
    {
      "cell_type": "markdown",
      "source": "#Answer - \nThe five key concepts of Object-Oriented Programming (OOP) are:\n\n    1.Class and Object\n\nA class is a blueprint or template for creating objects. It defines properties (attributes) and behaviors (methods) that the objects instantiated from the class will have.\nAn object is an instance of a class. It is a concrete realization of the class with actual data.\n\n    2.Encapsulation\n\nEncapsulation is the bundling of data (attributes) and methods (functions) into a single unit (class).\nIt restricts direct access to some of the object’s components, often through access specifiers like private, protected, and public, to ensure controlled interaction via getter and setter methods.\n\n  3.Inheritance\n\nInheritance allows one class (child or derived class) to inherit properties and behaviors from another class (parent or base class).\nIt promotes code reuse and establishes a natural hierarchy between classes.\n\n  4.Polymorphism\n\nPolymorphism enables methods to behave differently based on the object or context. It comes in two forms:\nMethod Overloading (compile-time polymorphism): Multiple methods in the same class with the same name but different parameter lists.\nMethod Overriding (runtime polymorphism): A child class redefines a method of the parent class to provide a specific implementation.\n\n 5.Abstraction\n\nAbstraction focuses on hiding the internal details and exposing only the essential features of an object.\nIt is implemented through abstract classes and interfaces, which define what operations an object can perform, not how they are performed.\nThese principles work together to create a robust, modular, and reusable codebase in object-oriented systems.",
      "metadata": {}
    },
    {
      "cell_type": "markdown",
      "source": "Question.2 Write a Python class for a `Car` with attributes for `make`, `model`, and `year`. Include a method to display the car's information.",
      "metadata": {}
    },
    {
      "cell_type": "code",
      "source": "#Answer\n\nclass Car:\n    def __init__(self, make, model, year):\n        self.make = make\n        self.model = model\n        self.year = year\n\n    def display_info(self):\n        print(f\"{self.year} {self.make} {self.model}\")\n\n# Example usage\ncar = Car(\"Toyota\", \"fortuner\", 2024)\ncar.display_info()  # Output: 2024 Toyota Corolla\n",
      "metadata": {
        "trusted": true
      },
      "outputs": [
        {
          "name": "stdout",
          "text": "2024 Toyota fortuner\n",
          "output_type": "stream"
        }
      ],
      "execution_count": 1
    },
    {
      "cell_type": "markdown",
      "source": "Question.3 - Explain the difference between instance methods and class methods. Provide an example of each.",
      "metadata": {}
    },
    {
      "cell_type": "raw",
      "source": "#Answer\n\nDifference Between Instance and Class Methods:\n\n1.Instance Methods:\n\nOperate on individual object instances.\nAccess instance-specific data and use self.\n\n 2.Class Methods:\n\nOperate on the class itself.\nUse @classmethod decorator and cls to access class-level data.",
      "metadata": {}
    },
    {
      "cell_type": "code",
      "source": "class Example:\n    class_variable = \"Class Data\"\n\n    def __init__(self, value):\n        self.instance_variable = value\n\n    def instance_method(self):  # Instance method\n        return f\"Instance Variable: {self.instance_variable}\"\n\n    @classmethod\n    def class_method(cls):  # Class method\n        return f\"Class Variable: {cls.class_variable}\"\n\n# Usage\nobj = Example(\"Instance Data\")\nprint(obj.instance_method())  # Instance Variable: Instance Data\nprint(Example.class_method())  # Class Variable: Class Data\n",
      "metadata": {
        "trusted": true
      },
      "outputs": [
        {
          "name": "stdout",
          "text": "Instance Variable: Instance Data\nClass Variable: Class Data\n",
          "output_type": "stream"
        }
      ],
      "execution_count": 2
    },
    {
      "cell_type": "markdown",
      "source": "Question 4. How does Python implement method overloading? Give an example.",
      "metadata": {}
    },
    {
      "cell_type": "markdown",
      "source": "#Answer - Python does not support method overloading in the traditional sense (multiple methods with the same name but different parameter lists). Instead, it achieves similar functionality by using default arguments or by handling arguments dynamically with *args and **kwargs.",
      "metadata": {}
    },
    {
      "cell_type": "code",
      "source": "class Calculator:\n    def add(self, a, b=0, c=0):  # Default arguments for overloading behavior\n        return a + b + c\n\n# Usage\ncalc = Calculator()\nprint(calc.add(5))         # Single argument: 5\nprint(calc.add(5, 10))     # Two arguments: 15\nprint(calc.add(5, 10, 15)) # Three arguments: 30\n",
      "metadata": {
        "trusted": true
      },
      "outputs": [
        {
          "name": "stdout",
          "text": "5\n15\n30\n",
          "output_type": "stream"
        }
      ],
      "execution_count": 3
    },
    {
      "cell_type": "code",
      "source": "#For more dynamic behavior, *args can be used:\n\nclass Calculator:\n    def add(self, *args):  # Accepts a variable number of arguments\n        return sum(args)\n\n# Usage\ncalc = Calculator()\nprint(calc.add(5))         # Single argument: 5\nprint(calc.add(5, 10))     # Two arguments: 15\nprint(calc.add(5, 10, 15)) # Three arguments: 30\n",
      "metadata": {
        "trusted": true
      },
      "outputs": [
        {
          "name": "stdout",
          "text": "5\n15\n30\n",
          "output_type": "stream"
        }
      ],
      "execution_count": 4
    },
    {
      "cell_type": "markdown",
      "source": "Question.4 What are the three types of access modifiers in Python? How are they denoted?\n\n#Answer \n\nThree Types of Access Modifiers in Python:\n\nPublic\n\nAccessible everywhere.\nDenoted: No underscore (variable).\n\nProtected\n\nAccessible within the class and its subclasses.\nDenoted: Single underscore (_variable).\n\nPrivate\n\nAccessible only within the class.\nDenoted: Double underscore (__variable).",
      "metadata": {}
    },
    {
      "cell_type": "markdown",
      "source": "Question.6 -  Describe the five types of inheritance in Python. Provide a simple example of multiple inheritance.\n\n#Answer - Five Types of Inheritance in Python:\n\nSingle Inheritance:\nA child class inherits from one parent class.\n\nMultiple Inheritance:\nA child class inherits from multiple parent classes.\n\nMultilevel Inheritance:\nA child class inherits from a parent class, which itself is a child of another class.\n\nHierarchical Inheritance:\nMultiple child classes inherit from a single parent class.\n\nHybrid Inheritance:\nA combination of two or more types of inheritance.",
      "metadata": {}
    },
    {
      "cell_type": "code",
      "source": "class Parent1:\n    def method1(self):\n        print(\"Method from Parent1\")\n\nclass Parent2:\n    def method2(self):\n        print(\"Method from Parent2\")\n\nclass Child(Parent1, Parent2):\n    def method3(self):\n        print(\"Method from Child\")\n\n# Usage\nobj = Child()\nobj.method1()  # Output: Method from Parent1\nobj.method2()  # Output: Method from Parent2\nobj.method3()  # Output: Method from Child\n",
      "metadata": {
        "trusted": true
      },
      "outputs": [
        {
          "name": "stdout",
          "text": "Method from Parent1\nMethod from Parent2\nMethod from Child\n",
          "output_type": "stream"
        }
      ],
      "execution_count": 7
    },
    {
      "cell_type": "raw",
      "source": "Question.7. What is the Method Resolution Order (MRO) in Python? How can you retrieve it programmatically?",
      "metadata": {}
    },
    {
      "cell_type": "raw",
      "source": "#Answer \nMethod Resolution Order (MRO) in Python:\n\nDefinition: MRO is the order in which Python looks for methods in a class hierarchy. It follows the C3 Linearization algorithm.\n\nUse: Ensures proper method lookup in cases of multiple inheritance.",
      "metadata": {}
    },
    {
      "cell_type": "code",
      "source": "#Retrieve MRO Programmatically:\n#Using the __mro__ attribute:\nprint(ClassName.__mro__)",
      "metadata": {
        "trusted": true
      },
      "outputs": [],
      "execution_count": 9
    },
    {
      "cell_type": "code",
      "source": "#Using the mro() method:\nprint(ClassName.mro())",
      "metadata": {
        "trusted": true
      },
      "outputs": [],
      "execution_count": null
    },
    {
      "cell_type": "markdown",
      "source": "Question.8 -  Create an abstract base class `Shape` with an abstract method `area()`. Then create two subclasses\n`Circle` and `Rectangle` that implement the `area()` method.",
      "metadata": {}
    },
    {
      "cell_type": "code",
      "source": "from abc import ABC, abstractmethod\n\nclass Shape(ABC):\n    @abstractmethod\n    def area(self):\n        pass\n\nclass Circle(Shape):\n    def __init__(self, radius):\n        self.radius = radius\n\n    def area(self):\n        return 3.14 * self.radius ** 2\n\nclass Rectangle(Shape):\n    def __init__(self, length, width):\n        self.length = length\n        self.width = width\n\n    def area(self):\n        return self.length * self.width\n\n# Usage\ncircle = Circle(5)\nrectangle = Rectangle(4, 6)\n\nprint(circle.area())     # Output: 78.5\nprint(rectangle.area())  # Output: 24\n",
      "metadata": {
        "trusted": true
      },
      "outputs": [
        {
          "name": "stdout",
          "text": "78.5\n24\n",
          "output_type": "stream"
        }
      ],
      "execution_count": 10
    },
    {
      "cell_type": "markdown",
      "source": "Question.9. Demonstrate polymorphism by creating a function that can work with different shape objects to calculate\nand print their areas.",
      "metadata": {}
    },
    {
      "cell_type": "code",
      "source": "#Answer\n\ndef print_area(shape):\n    print(f\"Area: {shape.area()}\")\n\nclass Circle:\n    def __init__(self, radius):\n        self.radius = radius\n\n    def area(self):\n        return 3.14 * self.radius ** 2\n\nclass Rectangle:\n    def __init__(self, length, width):\n        self.length = length\n        self.width = width\n\n    def area(self):\n        return self.length * self.width\n\n# Usage\ncircle = Circle(5)\nrectangle = Rectangle(4, 6)\n\nprint_area(circle)     # Output: Area: 78.5\nprint_area(rectangle)  # Output: Area: 24\n",
      "metadata": {
        "trusted": true
      },
      "outputs": [
        {
          "name": "stdout",
          "text": "Area: 78.5\nArea: 24\n",
          "output_type": "stream"
        }
      ],
      "execution_count": 11
    },
    {
      "cell_type": "markdown",
      "source": "Question.10 Implement encapsulation in a `BankAccount` class with private attributes for `balance` and\n`account_number`. Include methods for deposit, withdrawal, and balance inquiry.",
      "metadata": {}
    },
    {
      "cell_type": "code",
      "source": "#Answer \n\nclass BankAccount:\n    def __init__(self, account_number, initial_balance=0):\n        self.__account_number = account_number  # Private attribute\n        self.__balance = initial_balance        # Private attribute\n\n    def deposit(self, amount):\n        if amount > 0:\n            self.__balance += amount\n            print(f\"Deposited: {amount}\")\n        else:\n            print(\"Invalid deposit amount.\")\n\n    def withdraw(self, amount):\n        if 0 < amount <= self.__balance:\n            self.__balance -= amount\n            print(f\"Withdrew: {amount}\")\n        else:\n            print(\"Insufficient funds or invalid amount.\")\n\n    def get_balance(self):\n        return self.__balance\n\n# Usage\naccount = BankAccount(\"123456789\", 1000)\naccount.deposit(500)\naccount.withdraw(300)\nprint(f\"Balance: {account.get_balance()}\")  # Output: Balance: 1200\n",
      "metadata": {
        "trusted": true
      },
      "outputs": [
        {
          "name": "stdout",
          "text": "Deposited: 500\nWithdrew: 300\nBalance: 1200\n",
          "output_type": "stream"
        }
      ],
      "execution_count": 12
    },
    {
      "cell_type": "markdown",
      "source": "Question.11 Write a class that overrides the `__str__` and `__add__` magic methods. What will these methods allow\nyou to do?",
      "metadata": {}
    },
    {
      "cell_type": "code",
      "source": "#Answer\n\nclass Book:\n    def __init__(self, title, author):\n        self.title = title\n        self.author = author\n\n    # Overriding __str__ to provide a custom string representation\n    def __str__(self):\n        return f\"Book: {self.title} by {self.author}\"\n\n    # Overriding __add__ to define custom behavior for adding books\n    def __add__(self, other):\n        if isinstance(other, Book):\n            return f\"Combination of {self.title} and {other.title}\"\n        return \"Cannot combine with non-book object\"\n\n# Usage\nbook1 = Book(\"The Great Gatsby\", \"F. Scott Fitzgerald\")\nbook2 = Book(\"1984\", \"George Orwell\")\n\nprint(book1)  # Output: Book: The Great Gatsby by F. Scott Fitzgerald\nprint(book1 + book2)  # Output: Combination of The Great Gatsby and 1984\n",
      "metadata": {
        "trusted": true
      },
      "outputs": [
        {
          "name": "stdout",
          "text": "Book: The Great Gatsby by F. Scott Fitzgerald\nCombination of The Great Gatsby and 1984\n",
          "output_type": "stream"
        }
      ],
      "execution_count": 13
    },
    {
      "cell_type": "markdown",
      "source": "Question.12  Create a decorator that measures and prints the execution time of a function.",
      "metadata": {}
    },
    {
      "cell_type": "code",
      "source": "#Answer\nimport time\n\n# Decorator to measure execution time\ndef measure_time(func):\n    def wrapper(*args, **kwargs):\n        start_time = time.time()  # Record the start time\n        result = func(*args, **kwargs)  # Call the original function\n        end_time = time.time()  # Record the end time\n        print(f\"Execution time: {end_time - start_time} seconds\")\n        return result\n    return wrapper\n\n# Example usage of the decorator\n@measure_time\ndef some_function():\n    time.sleep(2)  # Simulate a delay\n\nsome_function()  # Output: Execution time: 2.000123 seconds (depends on system)\n\n",
      "metadata": {
        "trusted": true
      },
      "outputs": [
        {
          "name": "stdout",
          "text": "Execution time: 2.0 seconds\n",
          "output_type": "stream"
        }
      ],
      "execution_count": 14
    },
    {
      "cell_type": "markdown",
      "source": "Question.13 - Explain the concept of the Diamond Problem in multiple inheritance. How does Python resolve it?",
      "metadata": {}
    },
    {
      "cell_type": "markdown",
      "source": "#Answer Diamond Problem in Multiple Inheritance:\nThe Diamond Problem occurs in multiple inheritance when a class inherits from two classes that both inherit from the same base class. This can create ambiguity about which method or attribute to use if both parent classes have their own versions.",
      "metadata": {}
    },
    {
      "cell_type": "code",
      "source": "class A:\n    def method(self):\n        print(\"Method in A\")\n\nclass B(A):\n    def method(self):\n        print(\"Method in B\")\n\nclass C(A):\n    def method(self):\n        print(\"Method in C\")\n\nclass D(B, C):\n    pass\n\nobj = D()\nobj.method()  # Which method should be called: A, B, or C?\n",
      "metadata": {
        "trusted": true
      },
      "outputs": [
        {
          "name": "stdout",
          "text": "Method in B\n",
          "output_type": "stream"
        }
      ],
      "execution_count": 15
    },
    {
      "cell_type": "code",
      "source": "#Python uses the C3 Linearization (or C3 superclass linearization) algorithm to determine the method resolution order (MRO). This ensures a consistent order in which methods are inherited from multiple classes, avoiding ambiguity.\n\n#In the above example, Python will follow the MRO to call methods in a defined order:\nprint(D.mro())\n# Output: [<class '__main__.D'>, <class '__main__.B'>, <class '__main__.C'>, <class '__main__.A'>, <class 'object'>]\n",
      "metadata": {
        "trusted": true
      },
      "outputs": [
        {
          "name": "stdout",
          "text": "[<class '__main__.D'>, <class '__main__.B'>, <class '__main__.C'>, <class '__main__.A'>, <class 'object'>]\n",
          "output_type": "stream"
        }
      ],
      "execution_count": 16
    },
    {
      "cell_type": "code",
      "source": "Question.14 Write a class method that keeps track of the number of instances created from a class.",
      "metadata": {
        "trusted": true
      },
      "outputs": [],
      "execution_count": null
    },
    {
      "cell_type": "code",
      "source": "",
      "metadata": {
        "trusted": true
      },
      "outputs": [],
      "execution_count": null
    },
    {
      "cell_type": "code",
      "source": "",
      "metadata": {
        "trusted": true
      },
      "outputs": [],
      "execution_count": null
    },
    {
      "cell_type": "code",
      "source": "",
      "metadata": {
        "trusted": true
      },
      "outputs": [],
      "execution_count": null
    },
    {
      "cell_type": "code",
      "source": "",
      "metadata": {
        "trusted": true
      },
      "outputs": [],
      "execution_count": null
    },
    {
      "cell_type": "code",
      "source": "",
      "metadata": {
        "trusted": true
      },
      "outputs": [],
      "execution_count": null
    }
  ]
}